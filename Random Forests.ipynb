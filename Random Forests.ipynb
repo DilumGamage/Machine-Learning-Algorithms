{
 "cells": [
  {
   "cell_type": "markdown",
   "id": "033d7b3e",
   "metadata": {},
   "source": [
    "# Random Forests in Machine Learning ?"
   ]
  },
  {
   "cell_type": "markdown",
   "id": "5524411b",
   "metadata": {},
   "source": [
    "\n",
    "- Random forest is a supervised learning algorithm with two variations – one for classification problems and another for regression problems. It is highly flexible and easy to use.\n",
    "\n",
    "- It creates multiple decision trees on the given data samples. Each tree independently provides a prediction, and the final output is determined by aggregating the predictions through voting (for classification) or averaging (for regression).\n",
    "\n",
    "- Random forest is an excellent tool for estimating feature importance. By evaluating the impact of each feature on the accuracy of the model, it helps in identifying the most significant features in the dataset.\n",
    "\n",
    "- The algorithm combines multiple decision trees to form a forest. This ensemble approach leads to more robust and accurate models. The larger the number of trees in the forest, the higher the accuracy and stability of the model.\n",
    "\n",
    "- By using the ensemble of multiple trees, random forest reduces the risk of overfitting that is often associated with individual decision trees. It balances bias and variance, making it suitable for a wide range of tasks.\n",
    "\n",
    "#### Advantages:\n",
    "\n",
    "- Random forest can handle both numerical and categorical data with ease and is effective in various applications like finance, healthcare, and marketing.\n",
    "\n",
    "- It can maintain accuracy even when a large portion of the data is missing, making it robust to incomplete datasets.\n",
    "\n",
    "- Random forest can be used for anomaly detection, identifying unusual patterns or outliers in the data.\n",
    "\n",
    "- The algorithm can be parallelized, allowing for faster training and prediction times by leveraging multiple processors.\n",
    "\n",
    "#### Disadvantages\n",
    "\n",
    "- Random forests can become complex and difficult to interpret compared to individual decision trees. The ensemble nature of the model makes it hard to visualize and understand the decision-making process.\n",
    "\n",
    "- Training a random forest model can be computationally expensive and time-consuming, especially with a large number of trees and high-dimensional data.\n",
    "\n",
    "- Random forests require significant memory for storing the multiple trees and the data used to create them, which can be a limitation for large datasets.\n",
    "\n",
    "- Although random forests are less prone to overfitting than individual decision trees, they can still overfit if the data is particularly noisy or if the model parameters are not properly tuned.\n",
    "\n",
    "- Random forests may not perform as well with very small datasets, where simpler models like decision trees or logistic regression might be more appropriate.\n",
    "\n",
    "\n",
    "<table style=\"width:100%\">\n",
    "  <caption style=\"text-align:center; font-size:18px; font-weight:bold;\">Differences Between Random Forests and Decision Trees</caption>\n",
    "</table>\n",
    "\n",
    "<table>\n",
    "  <tr>\n",
    "    <th style=\"text-align: left;\">Feature</th>\n",
    "    <th style=\"text-align: left;\">Decision Trees</th>\n",
    "    <th style=\"text-align: left;\">Random Forests</th>\n",
    "  </tr>\n",
    "  <tr>\n",
    "    <td style=\"text-align: left;\">Algorithm Type</td>\n",
    "    <td style=\"text-align: left;\">Single tree structure used<br>for making predictions. Suitable<br>for both classification and<br>regression tasks.</td>\n",
    "    <td style=\"text-align: left;\">Ensemble of multiple<br>decision trees. Combines<br>predictions from multiple trees<br>for improved accuracy and<br>robustness.</td>\n",
    "  </tr>\n",
    "  <tr>\n",
    "    <td style=\"text-align: left;\">Model Complexity</td>\n",
    "    <td style=\"text-align: left;\">Simple to understand and<br>interpret. Easy to visualize.</td>\n",
    "    <td style=\"text-align: left;\">More complex and harder to<br>interpret. Combines multiple<br>trees, making the overall<br>decision process less transparent.</td>\n",
    "  </tr>\n",
    "  <tr>\n",
    "    <td style=\"text-align: left;\">Overfitting</td>\n",
    "    <td style=\"text-align: left;\">Prone to overfitting,<br>especially with deep trees.</td>\n",
    "    <td style=\"text-align: left;\">Less prone to overfitting due<br>to averaging predictions from<br>multiple trees, which reduces<br>variance and improves<br>generalization.</td>\n",
    "  </tr>\n",
    "  <tr>\n",
    "    <td style=\"text-align: left;\">Accuracy</td>\n",
    "    <td style=\"text-align: left;\">Good accuracy for small<br>and simple datasets but may<br>drop significantly for<br>complex datasets.</td>\n",
    "    <td style=\"text-align: left;\">Generally provides higher<br>accuracy for complex datasets<br>due to the ensemble method.</td>\n",
    "  </tr>\n",
    "  <tr>\n",
    "    <td style=\"text-align: left;\">Computational Requirements</td>\n",
    "    <td style=\"text-align: left;\">Less computationally<br>intensive and faster to train<br>and predict.</td>\n",
    "    <td style=\"text-align: left;\">More computationally intensive<br>and slower to train and predict<br>due to multiple trees. Requires<br>more memory and processing power.</td>\n",
    "  </tr>\n",
    "  <tr>\n",
    "    <td style=\"text-align: left;\">Handling of Missing Values</td>\n",
    "    <td style=\"text-align: left;\">Can handle missing values<br>but performance may degrade<br>with many missing values.</td>\n",
    "    <td style=\"text-align: left;\">More robust in handling<br>missing values as the ensemble<br>of trees can compensate for<br>data lack in individual trees.</td>\n",
    "  </tr>\n",
    "  <tr>\n",
    "    <td style=\"text-align: left;\">Feature Importance</td>\n",
    "    <td style=\"text-align: left;\">Can indicate feature<br>importance based on depth and<br>frequency of splits.</td>\n",
    "    <td style=\"text-align: left;\">Provides more reliable<br>feature importance by<br>averaging importance measures<br>across all trees in the forest.</td>\n",
    "  </tr>\n",
    "  <tr>\n",
    "    <td style=\"text-align: left;\">Bias-Variance Tradeoff</td>\n",
    "    <td style=\"text-align: left;\">High variance and low bias.<br>Can capture complex<br>relationships but may not<br>generalize well.</td>\n",
    "    <td style=\"text-align: left;\">Lower variance and slightly<br>higher bias. Balances the<br>bias-variance tradeoff,<br>leading to better generalization.</td>\n",
    "  </tr>\n",
    "</table>\n",
    "\n",
    "#### Summary\n",
    "\n",
    "- **Decision Trees:**\n",
    "  - Simple, easy to interpret, fast to train and predict.\n",
    "  - Prone to overfitting, less accurate for complex datasets.\n",
    "\n",
    "- **Random Forests:**\n",
    "  - More complex, harder to interpret, slower to train and predict.\n",
    "  - Less prone to overfitting, higher accuracy, better generalization, and robust feature importance.\n",
    "\n"
   ]
  },
  {
   "cell_type": "markdown",
   "id": "2840d2ab",
   "metadata": {},
   "source": [
    "# 1. Import Required Libraries"
   ]
  },
  {
   "cell_type": "markdown",
   "id": "84ddf6b0",
   "metadata": {},
   "source": [
    "### Installing Necessary Libraries\n",
    "\n",
    "First, we need to install the necessary libraries: numpy, pandas, scikit-learn, matplotlib, category_encoders and seaborn. To do this, run the following command in your computer's command prompt:\n",
    "\n",
    "\n",
    "**`!pip install numpy pandas scikit-learn matplotlib category_encoders seaborn`**\n",
    "  #### or\n",
    "**`pip install numpy pandas scikit-learn matplotlib category_encoders seaborn`**\n",
    "\n",
    "For the practical you will need some additional libraries and packages:\n",
    "\n",
    "- %matplotlib inline\n",
    "- category_encoders as ce\n",
    "- seaborn as sns\n",
    "\n",
    "- RandomForestClassifier\n",
    "- accuracy_score"
   ]
  },
  {
   "cell_type": "code",
   "execution_count": 3,
   "id": "8f981213",
   "metadata": {},
   "outputs": [],
   "source": [
    "import numpy as np \n",
    "import pandas as pd \n",
    "import matplotlib.pyplot as plt \n",
    "%matplotlib inline\n",
    "import category_encoders as ce\n",
    "import seaborn as sns\n",
    "\n",
    "from sklearn.ensemble import RandomForestClassifier\n",
    "from sklearn.metrics import accuracy_score\n",
    "from sklearn.model_selection import train_test_split\n",
    "from sklearn.metrics import classification_report\n",
    "from sklearn.metrics import confusion_matrix"
   ]
  },
  {
   "cell_type": "markdown",
   "id": "834d3af6",
   "metadata": {},
   "source": [
    "#### Libraries\n",
    "\n",
    "1. **`import numpy as np`**:\n",
    "   - Imports the NumPy library and assigns it an alias `np`. NumPy is essential for numerical computing in Python, providing support for large, multi-dimensional arrays and matrices, along with a variety of mathematical functions for array operations.\n",
    "\n",
    "2. **`import pandas as pd`**:\n",
    "   - Imports the Pandas library and assigns it an alias `pd`. Pandas is widely used for data manipulation and analysis in Python. It offers powerful data structures like DataFrame and Series, facilitating operations such as data cleaning, transformation, and exploration.\n",
    "\n",
    "3. **`import matplotlib.pyplot as plt`**:\n",
    "   - Imports the Pyplot module from Matplotlib and assigns it an alias `plt`. Matplotlib is a comprehensive plotting library in Python, enabling the creation of static, animated, and interactive visualizations. Pyplot provides a convenient interface for creating plots and customizing their appearance.\n",
    "\n",
    "4. **`%matplotlib inline`**:\n",
    "   - Jupyter Notebook magic command that ensures Matplotlib plots are displayed inline within the notebook. This allows plots to appear directly below the code cells that generate them, enhancing the interactive data exploration and analysis experience.\n",
    "\n",
    "5. **`import category_encoders as ce`**:\n",
    "   - Imports the category_encoders library and assigns it an alias `ce`. Category Encoders is a package in Python used for encoding categorical variables into numerical values suitable for machine learning models. It provides various encoding techniques such as Ordinal, One-Hot, and Binary encoding.\n",
    "\n",
    "6. **`import seaborn as sns`**:\n",
    "    - Imports the Seaborn library under the alias sns. Seaborn is a statistical data visualization library based on Matplotlib, providing a high-level interface for drawing attractive and informative statistical graphics.\n",
    "\n",
    "#### Specific Modules\n",
    "\n",
    "7. **`from sklearn.ensemble import RandomForestClassifier`**:\n",
    "   - Imports the RandomForestClassifier class from the ensemble module of scikit-learn (`sklearn`). RandomForestClassifier implements the random forest algorithm, a powerful ensemble learning method that constructs multiple decision trees during training and outputs the mode of the classes (classification) or average prediction (regression) of the individual trees.\n",
    "\n",
    "8. **`from sklearn.model_selection import train_test_split`**:\n",
    "   - Imports the train_test_split function from the model_selection module of scikit-learn (`sklearn`). train_test_split is used to split datasets into random train and test subsets. This function is crucial for evaluating machine learning models by training them on a subset of the data and assessing their performance on an independent subset.\n",
    "\n",
    "9. **`from sklearn.metrics import classification_report`**:\n",
    "   - Imports the classification_report function from the metrics module of scikit-learn (`sklearn`). classification_report generates a text report showing the main classification metrics (precision, recall, F1-score, support) for each class in a classification model's performance evaluation on a set of test data.\n",
    "\n",
    "10. **`from sklearn.metrics import accuracy_score`**:\n",
    "    - Imports the accuracy_score function from the metrics module of scikit-learn (`sklearn`). accuracy_score computes the accuracy of predictions made by a classification model. It compares the predicted labels with the true labels from the test data and calculates the fraction of correct predictions.\n",
    "\n",
    "11. **`from sklearn.metrics import confusion_matrix`**:\n",
    "    - Imports the confusion_matrix function from the metrics module of scikit-learn (`sklearn`). confusion_matrix constructs a confusion matrix, which is a table that summarizes the performance of a classification model by comparing predicted and actual class labels. It helps in understanding the distribution of predictions and types of prediction errors made by the model.\n"
   ]
  },
  {
   "cell_type": "markdown",
   "id": "110d719a",
   "metadata": {},
   "source": [
    "# 2. Loading the Dataset"
   ]
  },
  {
   "cell_type": "code",
   "execution_count": 4,
   "id": "8ad0d008",
   "metadata": {},
   "outputs": [],
   "source": [
    "#Load the car_evaluation dataset (Hint: use pandas package)\n",
    "dataframe = pd.read_csv('car_evaluation.csv')"
   ]
  },
  {
   "cell_type": "markdown",
   "id": "89d49fba",
   "metadata": {},
   "source": [
    "**Purpose:** This command reads the contents of a CSV file named \"car_evaluation.csv\" into a Pandas DataFrame called `dataframe`.\n",
    "\n",
    "**Explanation:**\n",
    "- `pd.read_csv('car_evaluation.csv')`: This function from the Pandas library (`pd`) reads the contents of a CSV file named \"car_evaluation.csv\" located in the current directory (or specified path) and creates a DataFrame from it.\n",
    "\n",
    "- `dataframe = ...`: The resulting DataFrame is assigned to the variable `dataframe`, allowing you to access and work with the data in Python.\n"
   ]
  },
  {
   "cell_type": "markdown",
   "id": "b450b725",
   "metadata": {},
   "source": [
    "# 3. Data Reviewing and Analysis"
   ]
  },
  {
   "cell_type": "code",
   "execution_count": 5,
   "id": "2fcc5ce8",
   "metadata": {},
   "outputs": [
    {
     "data": {
      "text/plain": [
       "(1728, 7)"
      ]
     },
     "execution_count": 5,
     "metadata": {},
     "output_type": "execute_result"
    }
   ],
   "source": [
    "# view the shape of the dataset (Hine: attribute is \".shape\")\n",
    "dataframe.shape"
   ]
  },
  {
   "cell_type": "markdown",
   "id": "db572939",
   "metadata": {},
   "source": [
    "**Purpose:**\n",
    "The shape attribute of a DataFrame in Python, particularly in libraries like Pandas, serves to describe the dimensions or structure of the DataFrame.\n",
    "\n",
    "**Explanation:**\n",
    "- It is represented as a tuple containing two elements: the number of rows and the number of columns in the DataFrame.\n",
    "\n",
    "For instance, if you have a DataFrame `df`, accessing its shape via `df.shape` returns a tuple in the form `(rows, columns)`, where:\n",
    "- `rows` denotes the number of rows (observations) in the DataFrame.\n",
    "- `columns` denotes the number of columns (variables) in the DataFrame.\n",
    "\n"
   ]
  },
  {
   "cell_type": "code",
   "execution_count": 6,
   "id": "4ea596f4",
   "metadata": {},
   "outputs": [
    {
     "data": {
      "text/html": [
       "<div>\n",
       "<style scoped>\n",
       "    .dataframe tbody tr th:only-of-type {\n",
       "        vertical-align: middle;\n",
       "    }\n",
       "\n",
       "    .dataframe tbody tr th {\n",
       "        vertical-align: top;\n",
       "    }\n",
       "\n",
       "    .dataframe thead th {\n",
       "        text-align: right;\n",
       "    }\n",
       "</style>\n",
       "<table border=\"1\" class=\"dataframe\">\n",
       "  <thead>\n",
       "    <tr style=\"text-align: right;\">\n",
       "      <th></th>\n",
       "      <th>Buying</th>\n",
       "      <th>Maintenance Cost</th>\n",
       "      <th>Doors</th>\n",
       "      <th>Persons</th>\n",
       "      <th>Lug_Boot</th>\n",
       "      <th>Safety</th>\n",
       "      <th>Class</th>\n",
       "    </tr>\n",
       "  </thead>\n",
       "  <tbody>\n",
       "    <tr>\n",
       "      <th>1723</th>\n",
       "      <td>low</td>\n",
       "      <td>low</td>\n",
       "      <td>5more</td>\n",
       "      <td>more</td>\n",
       "      <td>med</td>\n",
       "      <td>med</td>\n",
       "      <td>good</td>\n",
       "    </tr>\n",
       "    <tr>\n",
       "      <th>1724</th>\n",
       "      <td>low</td>\n",
       "      <td>low</td>\n",
       "      <td>5more</td>\n",
       "      <td>more</td>\n",
       "      <td>med</td>\n",
       "      <td>high</td>\n",
       "      <td>vgood</td>\n",
       "    </tr>\n",
       "    <tr>\n",
       "      <th>1725</th>\n",
       "      <td>low</td>\n",
       "      <td>low</td>\n",
       "      <td>5more</td>\n",
       "      <td>more</td>\n",
       "      <td>big</td>\n",
       "      <td>low</td>\n",
       "      <td>unacc</td>\n",
       "    </tr>\n",
       "    <tr>\n",
       "      <th>1726</th>\n",
       "      <td>low</td>\n",
       "      <td>low</td>\n",
       "      <td>5more</td>\n",
       "      <td>more</td>\n",
       "      <td>big</td>\n",
       "      <td>med</td>\n",
       "      <td>good</td>\n",
       "    </tr>\n",
       "    <tr>\n",
       "      <th>1727</th>\n",
       "      <td>low</td>\n",
       "      <td>low</td>\n",
       "      <td>5more</td>\n",
       "      <td>more</td>\n",
       "      <td>big</td>\n",
       "      <td>high</td>\n",
       "      <td>vgood</td>\n",
       "    </tr>\n",
       "  </tbody>\n",
       "</table>\n",
       "</div>"
      ],
      "text/plain": [
       "     Buying Maintenance Cost  Doors Persons Lug_Boot Safety  Class\n",
       "1723    low              low  5more    more      med    med   good\n",
       "1724    low              low  5more    more      med   high  vgood\n",
       "1725    low              low  5more    more      big    low  unacc\n",
       "1726    low              low  5more    more      big    med   good\n",
       "1727    low              low  5more    more      big   high  vgood"
      ]
     },
     "execution_count": 6,
     "metadata": {},
     "output_type": "execute_result"
    }
   ],
   "source": [
    "# view first 5 entries of the dataset and last 5 entries of the dataset\n",
    "dataframe.head()\n",
    "dataframe.tail()\n"
   ]
  },
  {
   "cell_type": "markdown",
   "id": "45947c64",
   "metadata": {},
   "source": [
    "- We can use the .head command to display the first 5 rows of the dataset and the .tail command to display the last 5 rows of the dataset."
   ]
  },
  {
   "cell_type": "code",
   "execution_count": 7,
   "id": "276da195",
   "metadata": {},
   "outputs": [
    {
     "name": "stdout",
     "output_type": "stream",
     "text": [
      "<class 'pandas.core.frame.DataFrame'>\n",
      "RangeIndex: 1728 entries, 0 to 1727\n",
      "Data columns (total 7 columns):\n",
      " #   Column            Non-Null Count  Dtype \n",
      "---  ------            --------------  ----- \n",
      " 0   Buying            1728 non-null   object\n",
      " 1   Maintenance Cost  1728 non-null   object\n",
      " 2   Doors             1728 non-null   object\n",
      " 3   Persons           1728 non-null   object\n",
      " 4   Lug_Boot          1728 non-null   object\n",
      " 5   Safety            1728 non-null   object\n",
      " 6   Class             1728 non-null   object\n",
      "dtypes: object(7)\n",
      "memory usage: 94.6+ KB\n"
     ]
    }
   ],
   "source": [
    "# view the information of dataset (Hint: \".info()\" attribute)\n",
    "dataframe.info()\n"
   ]
  },
  {
   "cell_type": "markdown",
   "id": "1b556084",
   "metadata": {},
   "source": [
    "**Purpose:**\n",
    "The `df.info()` method is used to display a concise summary of the DataFrame's information.\n",
    "\n",
    "**Explanation:**\n",
    "   - **Purpose:** This line calls the `info()` method on the DataFrame `dataframe`.\n",
    "   - **Explanation:** The `info()` method provides a summary of the DataFrame, including its index dtype, column dtypes, non-null values, and memory usage. It's useful for quickly understanding the structure and composition of the DataFrame, including the data types of each column and whether there are any missing values.\n"
   ]
  },
  {
   "cell_type": "code",
   "execution_count": 10,
   "id": "8d190002",
   "metadata": {},
   "outputs": [
    {
     "data": {
      "text/plain": [
       "Class\n",
       "unacc    1210\n",
       "acc       384\n",
       "good       69\n",
       "vgood      65\n",
       "Name: count, dtype: int64"
      ]
     },
     "execution_count": 10,
     "metadata": {},
     "output_type": "execute_result"
    }
   ],
   "source": [
    "# view the value counts of column \"Class\" (Hint: \".value_counts()\" attribute)\n",
    "dataframe['Class'].value_counts()\n"
   ]
  },
  {
   "cell_type": "markdown",
   "id": "f9f6faf8",
   "metadata": {},
   "source": [
    "**Purpose:**\n",
    "To count the occurrences of each unique value in the 'class' column of the DataFrame `dataframe`.\n",
    "\n",
    "**Explanation:**\n",
    "1. **`dataframe['class']`**:\n",
    "   - **Purpose:** This part of the code accesses the 'class' column in the DataFrame `dataframe`.\n",
    "   - **Explanation:** The syntax `dataframe['class']` selects the column named 'class' from the DataFrame `dataframe`, returning a Series containing all the values in that column."
   ]
  },
  {
   "cell_type": "markdown",
   "id": "4de56aa0",
   "metadata": {},
   "source": [
    "2. **`.value_counts()`**:\n",
    "   - **Purpose:** This method counts the number of occurrences of each unique value in the Series.\n",
    "   - **Explanation:** The `value_counts()` method is called on the Series returned by `dataframe['class']`. It computes a Series where the index is the unique values in the 'class' column and the values are the counts of those unique values. The result is a summary of the frequency of each unique value in the 'class' column.\n"
   ]
  },
  {
   "cell_type": "code",
   "execution_count": 11,
   "id": "683720ea",
   "metadata": {},
   "outputs": [
    {
     "data": {
      "text/plain": [
       "Buying              0\n",
       "Maintenance Cost    0\n",
       "Doors               0\n",
       "Persons             0\n",
       "Lug_Boot            0\n",
       "Safety              0\n",
       "Class               0\n",
       "dtype: int64"
      ]
     },
     "execution_count": 11,
     "metadata": {},
     "output_type": "execute_result"
    }
   ],
   "source": [
    "# view the value counts of column \"Class\" (Hint: \".isnull().sum()\" attribute)\n",
    "dataframe.isnull().sum()\n"
   ]
  },
  {
   "cell_type": "markdown",
   "id": "2e9f398b",
   "metadata": {},
   "source": [
    "**Purpose:**\n",
    "To count the number of missing (null) values in each column of the DataFrame `dataframe`.\n",
    "\n",
    "**Explanation:**\n",
    "1. **`dataframe.isnull()`**:\n",
    "   - **Purpose:** This method checks for missing values in the DataFrame `dataframe`.\n",
    "   - **Explanation:** The `isnull()` method returns a DataFrame of the same shape as `dataframe`, where each entry is a Boolean value: `True` if the original value is null (missing), and `False` otherwise."
   ]
  },
  {
   "cell_type": "markdown",
   "id": "fdbc7e4d",
   "metadata": {},
   "source": [
    "2. **`.sum()`**:\n",
    "   - **Purpose:** This method calculates the sum of the Boolean values in each column.\n",
    "   - **Explanation:** The `sum()` method is called on the DataFrame returned by `df.isnull()`. Since `True` is treated as 1 and `False` as 0, summing the Boolean values in each column gives the total number of `True` values, i.e., the total number of missing values in that column.\n"
   ]
  },
  {
   "cell_type": "markdown",
   "id": "d41e5d01",
   "metadata": {},
   "source": [
    "# 4. Data Splitting"
   ]
  },
  {
   "cell_type": "code",
   "execution_count": 13,
   "id": "10015d78",
   "metadata": {},
   "outputs": [],
   "source": [
    "# Use \"X\" as the feature variable(independent variable)(Hint: Drop the \"Class\" column)\n",
    "X = dataframe.drop(['Class'], axis=1)\n",
    "# Use \"y\" as the feature variable(dependent variable)(Hint: Use \"Class\" column)\n",
    "y = dataframe['Class']"
   ]
  },
  {
   "cell_type": "markdown",
   "id": "450a3f60",
   "metadata": {},
   "source": [
    "**Purpose:**\n",
    "To separate the features and the target variable from the DataFrame `dataframe`.\n",
    "\n",
    "1. **`X = dataframe.drop(['class'], axis=1)`**:\n",
    "   - **Purpose:** To create a new DataFrame `X` that contains all the columns of the original DataFrame `dataframe` except the 'class' column.\n",
    "   - **Explanation:** The `drop()` method is used to remove the 'class' column from `dataframe`. The parameter `['class']` specifies the column to be dropped, and `axis=1` indicates that the operation is to be performed on columns. The result is assigned to `X`, which now contains only the features of the dataset without the target variable."
   ]
  },
  {
   "cell_type": "markdown",
   "id": "14dd8060",
   "metadata": {},
   "source": [
    "2. **`y = dataframe['class']`**:\n",
    "   - **Purpose:** To create a Series `y` that contains the values of the 'class' column from the DataFrame `dataframe`.\n",
    "   - **Explanation:** By selecting `dataframe['class']`, the code extracts the 'class' column from `dataframe`. The result is assigned to `y`, which now contains the target variable of the dataset."
   ]
  },
  {
   "cell_type": "code",
   "execution_count": 15,
   "id": "e296b64e",
   "metadata": {},
   "outputs": [],
   "source": [
    "# split the data into X_train, X_test, y_train, y_test\n",
    "X_train,X_test,y_train, y_test = train_test_split(X, y, test_size = 0.33, random_state=42)\n"
   ]
  },
  {
   "cell_type": "markdown",
   "id": "e53746fa",
   "metadata": {},
   "source": [
    "#### Purpose:\n",
    "To split the dataset into training and testing sets.\n",
    "\n",
    "#### Explanation:\n",
    "1. **`X_train, X_test, y_train, y_test = train_test_split(X, y, test_size = 0.33, random_state = 42)`**:\n",
    "   - **Purpose:** To divide the features and target variable into training and testing sets.\n",
    "   - **Explanation:** \n",
    "     - `train_test_split(X, y, test_size = 0.33, random_state = 42)` is a function from the `sklearn.model_selection` module that splits the arrays or matrices into random train and test subsets.\n",
    "     - `X` and `y` are the input variables (features) and the output variable (target) respectively that you want to split.\n",
    "     - `test_size = 0.33` specifies that 33% of the data should be used for the test set, and the remaining 67% should be used for the training set.\n",
    "     - `random_state = 42` is a seed used by the random number generator to ensure reproducibility. Using the same random state ensures that the same split is obtained every time the code is run.\n",
    "     - The function returns four outputs:\n",
    "       - `X_train`: The training set features.\n",
    "       - `X_test`: The testing set features.\n",
    "       - `y_train`: The training set target.\n",
    "       - `y_test`: The testing set target.\n",
    "\n"
   ]
  },
  {
   "cell_type": "code",
   "execution_count": 16,
   "id": "034b4c14",
   "metadata": {},
   "outputs": [
    {
     "data": {
      "text/plain": [
       "((1157, 6), (571, 6))"
      ]
     },
     "execution_count": 16,
     "metadata": {},
     "output_type": "execute_result"
    }
   ],
   "source": [
    "# View the dimentions of X_train, X_test\n",
    "X_train.shape, X_test.shape\n"
   ]
  },
  {
   "cell_type": "markdown",
   "id": "2c554c3d",
   "metadata": {},
   "source": [
    "#### Purpose:\n",
    "To obtain the dimensions of the training and testing feature sets.\n",
    "\n",
    "#### Explanation:\n",
    "1. **`X_train.shape`**:\n",
    "   - **Purpose:** To get the dimensions of the training feature set `X_train`.\n",
    "   - **Explanation:** The `shape` attribute of a DataFrame or NumPy array returns a tuple representing its dimensions. For `X_train`, this tuple will contain the number of rows (samples) and the number of columns (features) in the training set.\n",
    "\n",
    "2. **`X_test.shape`**:\n",
    "   - **Purpose:** To get the dimensions of the testing feature set `X_test`.\n",
    "   - **Explanation:** Similarly, the `shape` attribute for `X_test` will return a tuple representing the number of rows (samples) and the number of columns (features) in the testing set.\n",
    "\n",
    "#### Why combined ?\n",
    "**`X_train.shape, X_test.shape`**:\n",
    "   - **Purpose:** To display the dimensions of both the training and testing feature sets simultaneously.\n",
    "   - **Explanation:** By evaluating `X_train.shape` and `X_test.shape` together, you obtain a pair of tuples that show the number of samples and features in both the training and testing sets, respectively. This is useful for quickly verifying the sizes of the datasets.\n"
   ]
  },
  {
   "cell_type": "markdown",
   "id": "e9be5b2a",
   "metadata": {},
   "source": [
    "# 5. Feature Engineering"
   ]
  },
  {
   "cell_type": "markdown",
   "id": "bb05a751",
   "metadata": {},
   "source": [
    "- Feature Engineering is the process of transforming raw data into useful features that help us to understand our model better and increase its predictive power. I will carry out feature engineering on different types of variables.\n",
    "\n",
    "### Step 01 : Check the data types of variables again."
   ]
  },
  {
   "cell_type": "code",
   "execution_count": 19,
   "id": "a240cf3a",
   "metadata": {},
   "outputs": [
    {
     "data": {
      "text/plain": [
       "Buying              object\n",
       "Maintenance Cost    object\n",
       "Doors               object\n",
       "Persons             object\n",
       "Lug_Boot            object\n",
       "Safety              object\n",
       "dtype: object"
      ]
     },
     "execution_count": 19,
     "metadata": {},
     "output_type": "execute_result"
    }
   ],
   "source": [
    "# View the data type of X_train variable\n",
    "X_train.dtypes\n"
   ]
  },
  {
   "cell_type": "markdown",
   "id": "fa7dc735",
   "metadata": {},
   "source": [
    "#### Purpose:\n",
    "To inspect the data types of the columns in the training feature set `X_train`.\n",
    "#### Explanation:\n",
    "1. **`X_train.dtypes`**:\n",
    "   - **Purpose:** To display the data types of each column in the DataFrame `X_train`.\n",
    "   - **Explanation:** The `dtypes` attribute of a DataFrame returns a Series with the data type of each column. This is useful for verifying that the columns have the expected data types and for ensuring that the data is in the correct format for model training.\n",
    "\n"
   ]
  },
  {
   "cell_type": "markdown",
   "id": "2763b3c7",
   "metadata": {},
   "source": [
    "### Step 02 : Encode Categorical Variables"
   ]
  },
  {
   "cell_type": "code",
   "execution_count": 20,
   "id": "c329cdb9",
   "metadata": {},
   "outputs": [],
   "source": [
    "# Use OrdinalEncoder in the library \"category_encoders\" (Hint :use these cols=['Buying', 'Maintenance Cost', 'Doors', 'Persons', 'Lug_Boot', 'Safety'])\n",
    "encoder = ce.OrdinalEncoder(cols=['Buying', 'Maintenance Cost', 'Doors', 'Persons', 'Lug_Boot', 'Safety'])\n"
   ]
  },
  {
   "cell_type": "markdown",
   "id": "e2cdab61",
   "metadata": {},
   "source": [
    "#### Purpose:\n",
    "- To initialize an ordinal encoder for the specified columns.\n",
    "#### Explanation:\n",
    "- The `OrdinalEncoder` is configured to encode the specified categorical columns ('buying', 'maint', 'doors', 'persons', 'lug_boot', 'safety') in the DataFrame. Ordinal encoding assigns a unique integer to each category, maintaining the order of the categories."
   ]
  },
  {
   "cell_type": "code",
   "execution_count": 22,
   "id": "739fd7d2",
   "metadata": {},
   "outputs": [
    {
     "data": {
      "text/html": [
       "<div>\n",
       "<style scoped>\n",
       "    .dataframe tbody tr th:only-of-type {\n",
       "        vertical-align: middle;\n",
       "    }\n",
       "\n",
       "    .dataframe tbody tr th {\n",
       "        vertical-align: top;\n",
       "    }\n",
       "\n",
       "    .dataframe thead th {\n",
       "        text-align: right;\n",
       "    }\n",
       "</style>\n",
       "<table border=\"1\" class=\"dataframe\">\n",
       "  <thead>\n",
       "    <tr style=\"text-align: right;\">\n",
       "      <th></th>\n",
       "      <th>Buying</th>\n",
       "      <th>Maintenance Cost</th>\n",
       "      <th>Doors</th>\n",
       "      <th>Persons</th>\n",
       "      <th>Lug_Boot</th>\n",
       "      <th>Safety</th>\n",
       "    </tr>\n",
       "  </thead>\n",
       "  <tbody>\n",
       "    <tr>\n",
       "      <th>48</th>\n",
       "      <td>1</td>\n",
       "      <td>1</td>\n",
       "      <td>1</td>\n",
       "      <td>1</td>\n",
       "      <td>1</td>\n",
       "      <td>1</td>\n",
       "    </tr>\n",
       "    <tr>\n",
       "      <th>468</th>\n",
       "      <td>2</td>\n",
       "      <td>1</td>\n",
       "      <td>1</td>\n",
       "      <td>2</td>\n",
       "      <td>2</td>\n",
       "      <td>1</td>\n",
       "    </tr>\n",
       "    <tr>\n",
       "      <th>155</th>\n",
       "      <td>1</td>\n",
       "      <td>2</td>\n",
       "      <td>1</td>\n",
       "      <td>1</td>\n",
       "      <td>2</td>\n",
       "      <td>2</td>\n",
       "    </tr>\n",
       "    <tr>\n",
       "      <th>1721</th>\n",
       "      <td>3</td>\n",
       "      <td>3</td>\n",
       "      <td>2</td>\n",
       "      <td>1</td>\n",
       "      <td>2</td>\n",
       "      <td>2</td>\n",
       "    </tr>\n",
       "    <tr>\n",
       "      <th>1208</th>\n",
       "      <td>4</td>\n",
       "      <td>3</td>\n",
       "      <td>3</td>\n",
       "      <td>1</td>\n",
       "      <td>2</td>\n",
       "      <td>2</td>\n",
       "    </tr>\n",
       "    <tr>\n",
       "      <th>...</th>\n",
       "      <td>...</td>\n",
       "      <td>...</td>\n",
       "      <td>...</td>\n",
       "      <td>...</td>\n",
       "      <td>...</td>\n",
       "      <td>...</td>\n",
       "    </tr>\n",
       "    <tr>\n",
       "      <th>1130</th>\n",
       "      <td>4</td>\n",
       "      <td>4</td>\n",
       "      <td>1</td>\n",
       "      <td>1</td>\n",
       "      <td>1</td>\n",
       "      <td>2</td>\n",
       "    </tr>\n",
       "    <tr>\n",
       "      <th>1294</th>\n",
       "      <td>4</td>\n",
       "      <td>3</td>\n",
       "      <td>2</td>\n",
       "      <td>1</td>\n",
       "      <td>3</td>\n",
       "      <td>3</td>\n",
       "    </tr>\n",
       "    <tr>\n",
       "      <th>860</th>\n",
       "      <td>2</td>\n",
       "      <td>3</td>\n",
       "      <td>2</td>\n",
       "      <td>1</td>\n",
       "      <td>1</td>\n",
       "      <td>2</td>\n",
       "    </tr>\n",
       "    <tr>\n",
       "      <th>1459</th>\n",
       "      <td>3</td>\n",
       "      <td>2</td>\n",
       "      <td>4</td>\n",
       "      <td>3</td>\n",
       "      <td>2</td>\n",
       "      <td>3</td>\n",
       "    </tr>\n",
       "    <tr>\n",
       "      <th>1126</th>\n",
       "      <td>4</td>\n",
       "      <td>4</td>\n",
       "      <td>1</td>\n",
       "      <td>1</td>\n",
       "      <td>2</td>\n",
       "      <td>3</td>\n",
       "    </tr>\n",
       "  </tbody>\n",
       "</table>\n",
       "<p>1157 rows × 6 columns</p>\n",
       "</div>"
      ],
      "text/plain": [
       "      Buying  Maintenance Cost  Doors  Persons  Lug_Boot  Safety\n",
       "48         1                 1      1        1         1       1\n",
       "468        2                 1      1        2         2       1\n",
       "155        1                 2      1        1         2       2\n",
       "1721       3                 3      2        1         2       2\n",
       "1208       4                 3      3        1         2       2\n",
       "...      ...               ...    ...      ...       ...     ...\n",
       "1130       4                 4      1        1         1       2\n",
       "1294       4                 3      2        1         3       3\n",
       "860        2                 3      2        1         1       2\n",
       "1459       3                 2      4        3         2       3\n",
       "1126       4                 4      1        1         2       3\n",
       "\n",
       "[1157 rows x 6 columns]"
      ]
     },
     "execution_count": 22,
     "metadata": {},
     "output_type": "execute_result"
    }
   ],
   "source": [
    "#To fit the encoder to the training data and transform the categorical features into ordinal encoded values.\n",
    "X_train = encoder.fit_transform(X_train)\n",
    "X_train"
   ]
  },
  {
   "cell_type": "markdown",
   "id": "da355d59",
   "metadata": {},
   "source": [
    "#### Purpose:\n",
    "- To fit the encoder to the training data and transform the categorical features into ordinal encoded values.\n",
    "#### Explanation:\n",
    "- The `fit_transform` method first fits the encoder to the data (`X_train`), learning the mappings from categories to integers, and then transforms the data by replacing the categorical values with the corresponding ordinal encoded values. The transformed training data is then stored back in `X_train`.\n"
   ]
  },
  {
   "cell_type": "code",
   "execution_count": 23,
   "id": "a07a38e8",
   "metadata": {},
   "outputs": [],
   "source": [
    "#To transform the testing data using the already-fitted encoder.\n",
    "X_test = encoder.transform(X_test)\n"
   ]
  },
  {
   "cell_type": "markdown",
   "id": "49fa1fe7",
   "metadata": {},
   "source": [
    "#### Purpose:\n",
    "- To transform the testing data using the already-fitted encoder.\n",
    "#### Explanation: \n",
    "- The `transform` method applies the encoding learned from the training data to the testing data (`X_test`), ensuring that the same mappings are used. This maintains consistency in the encoding across both the training and testing datasets. The transformed testing data is then stored back in `X_test`.\n"
   ]
  },
  {
   "cell_type": "markdown",
   "id": "468c9a48",
   "metadata": {},
   "source": [
    "# 6. Model Training"
   ]
  },
  {
   "cell_type": "markdown",
   "id": "85f27f99",
   "metadata": {},
   "source": [
    "### Step 01 : Instantiate the Classifier"
   ]
  },
  {
   "cell_type": "code",
   "execution_count": 35,
   "id": "6a6ce781",
   "metadata": {},
   "outputs": [],
   "source": [
    "#To initialize a Random Forest classifier model with specified parameters.\n",
    "model = RandomForestClassifier(n_estimators = 100,random_state = 42)\n"
   ]
  },
  {
   "cell_type": "markdown",
   "id": "47afefb6",
   "metadata": {},
   "source": [
    "#### Purpose:\n",
    "To initialize a Random Forest classifier model with specified parameters.\n",
    "\n",
    "#### Explanation:\n",
    "1. **`model = RandomForestClassifier(n_estimators=100, random_state=42)`**:\n",
    "   - **Purpose:** To create an instance of the Random Forest classifier (`RandomForestClassifier`) with specific configuration parameters.\n",
    "   - **Explanation:** \n",
    "     - `RandomForestClassifier` is imported from the `sklearn.ensemble` module, which implements a Random Forest classifier.\n",
    "     - `n_estimators=100`: This parameter specifies the number of trees in the forest. In this case, the forest will contain 100 decision trees.\n",
    "     - `random_state=42`: This parameter sets the random seed for reproducibility. Providing a specific `random_state` ensures that the results are consistent across multiple runs of the code."
   ]
  },
  {
   "cell_type": "markdown",
   "id": "a3a34f28",
   "metadata": {},
   "source": [
    "### Step 02 : Fit the Model"
   ]
  },
  {
   "cell_type": "code",
   "execution_count": 36,
   "id": "faad0da3",
   "metadata": {},
   "outputs": [
    {
     "data": {
      "text/html": [
       "<style>#sk-container-id-3 {color: black;}#sk-container-id-3 pre{padding: 0;}#sk-container-id-3 div.sk-toggleable {background-color: white;}#sk-container-id-3 label.sk-toggleable__label {cursor: pointer;display: block;width: 100%;margin-bottom: 0;padding: 0.3em;box-sizing: border-box;text-align: center;}#sk-container-id-3 label.sk-toggleable__label-arrow:before {content: \"▸\";float: left;margin-right: 0.25em;color: #696969;}#sk-container-id-3 label.sk-toggleable__label-arrow:hover:before {color: black;}#sk-container-id-3 div.sk-estimator:hover label.sk-toggleable__label-arrow:before {color: black;}#sk-container-id-3 div.sk-toggleable__content {max-height: 0;max-width: 0;overflow: hidden;text-align: left;background-color: #f0f8ff;}#sk-container-id-3 div.sk-toggleable__content pre {margin: 0.2em;color: black;border-radius: 0.25em;background-color: #f0f8ff;}#sk-container-id-3 input.sk-toggleable__control:checked~div.sk-toggleable__content {max-height: 200px;max-width: 100%;overflow: auto;}#sk-container-id-3 input.sk-toggleable__control:checked~label.sk-toggleable__label-arrow:before {content: \"▾\";}#sk-container-id-3 div.sk-estimator input.sk-toggleable__control:checked~label.sk-toggleable__label {background-color: #d4ebff;}#sk-container-id-3 div.sk-label input.sk-toggleable__control:checked~label.sk-toggleable__label {background-color: #d4ebff;}#sk-container-id-3 input.sk-hidden--visually {border: 0;clip: rect(1px 1px 1px 1px);clip: rect(1px, 1px, 1px, 1px);height: 1px;margin: -1px;overflow: hidden;padding: 0;position: absolute;width: 1px;}#sk-container-id-3 div.sk-estimator {font-family: monospace;background-color: #f0f8ff;border: 1px dotted black;border-radius: 0.25em;box-sizing: border-box;margin-bottom: 0.5em;}#sk-container-id-3 div.sk-estimator:hover {background-color: #d4ebff;}#sk-container-id-3 div.sk-parallel-item::after {content: \"\";width: 100%;border-bottom: 1px solid gray;flex-grow: 1;}#sk-container-id-3 div.sk-label:hover label.sk-toggleable__label {background-color: #d4ebff;}#sk-container-id-3 div.sk-serial::before {content: \"\";position: absolute;border-left: 1px solid gray;box-sizing: border-box;top: 0;bottom: 0;left: 50%;z-index: 0;}#sk-container-id-3 div.sk-serial {display: flex;flex-direction: column;align-items: center;background-color: white;padding-right: 0.2em;padding-left: 0.2em;position: relative;}#sk-container-id-3 div.sk-item {position: relative;z-index: 1;}#sk-container-id-3 div.sk-parallel {display: flex;align-items: stretch;justify-content: center;background-color: white;position: relative;}#sk-container-id-3 div.sk-item::before, #sk-container-id-3 div.sk-parallel-item::before {content: \"\";position: absolute;border-left: 1px solid gray;box-sizing: border-box;top: 0;bottom: 0;left: 50%;z-index: -1;}#sk-container-id-3 div.sk-parallel-item {display: flex;flex-direction: column;z-index: 1;position: relative;background-color: white;}#sk-container-id-3 div.sk-parallel-item:first-child::after {align-self: flex-end;width: 50%;}#sk-container-id-3 div.sk-parallel-item:last-child::after {align-self: flex-start;width: 50%;}#sk-container-id-3 div.sk-parallel-item:only-child::after {width: 0;}#sk-container-id-3 div.sk-dashed-wrapped {border: 1px dashed gray;margin: 0 0.4em 0.5em 0.4em;box-sizing: border-box;padding-bottom: 0.4em;background-color: white;}#sk-container-id-3 div.sk-label label {font-family: monospace;font-weight: bold;display: inline-block;line-height: 1.2em;}#sk-container-id-3 div.sk-label-container {text-align: center;}#sk-container-id-3 div.sk-container {/* jupyter's `normalize.less` sets `[hidden] { display: none; }` but bootstrap.min.css set `[hidden] { display: none !important; }` so we also need the `!important` here to be able to override the default hidden behavior on the sphinx rendered scikit-learn.org. See: https://github.com/scikit-learn/scikit-learn/issues/21755 */display: inline-block !important;position: relative;}#sk-container-id-3 div.sk-text-repr-fallback {display: none;}</style><div id=\"sk-container-id-3\" class=\"sk-top-container\"><div class=\"sk-text-repr-fallback\"><pre>RandomForestClassifier(n_estimators=10, random_state=42)</pre><b>In a Jupyter environment, please rerun this cell to show the HTML representation or trust the notebook. <br />On GitHub, the HTML representation is unable to render, please try loading this page with nbviewer.org.</b></div><div class=\"sk-container\" hidden><div class=\"sk-item\"><div class=\"sk-estimator sk-toggleable\"><input class=\"sk-toggleable__control sk-hidden--visually\" id=\"sk-estimator-id-3\" type=\"checkbox\" checked><label for=\"sk-estimator-id-3\" class=\"sk-toggleable__label sk-toggleable__label-arrow\">RandomForestClassifier</label><div class=\"sk-toggleable__content\"><pre>RandomForestClassifier(n_estimators=10, random_state=42)</pre></div></div></div></div></div>"
      ],
      "text/plain": [
       "RandomForestClassifier(n_estimators=10, random_state=42)"
      ]
     },
     "execution_count": 36,
     "metadata": {},
     "output_type": "execute_result"
    }
   ],
   "source": [
    "# To train the Random Forest classifier model using the training data.\n",
    "model.fit(X_train, y_train)\n"
   ]
  },
  {
   "cell_type": "markdown",
   "id": "96ad599d",
   "metadata": {},
   "source": [
    "#### Purpose:\n",
    "To train the Random Forest classifier model using the training data.\n",
    "\n",
    "#### Explanation:\n",
    "\n",
    "   - **Purpose:** To train the Random Forest classifier (`model`) using the training features (`X_train`) and the corresponding target labels (`y_train`).\n",
    "   - **Explanation:** \n",
    "     - `model`: This variable represents the Random Forest classifier that was initialized earlier.\n",
    "     - `.fit(X_train, y_train)`: The `fit` method in scikit-learn models is used to train the model on the provided training data. Here, `X_train` is a DataFrame or array-like structure containing the features, and `y_train` is a Series or array containing the target labels (classifications).\n",
    "     - During this process, the Random Forest algorithm will build multiple decision trees based on the training data, where each tree is trained on a different subset of the data with different random samples and features.\n",
    "\n"
   ]
  },
  {
   "cell_type": "markdown",
   "id": "79a61699",
   "metadata": {},
   "source": [
    "### Step 03 : Predict the Test set results"
   ]
  },
  {
   "cell_type": "code",
   "execution_count": 37,
   "id": "e7ddaf8e",
   "metadata": {},
   "outputs": [],
   "source": [
    "# To predict target labels using the trained Random Forest classifier (model) on the testing data (X_test).\n",
    "y_pred = model.predict(X_test)\n"
   ]
  },
  {
   "cell_type": "markdown",
   "id": "41c648e2",
   "metadata": {},
   "source": [
    "#### Purpose:\n",
    "To predict target labels using the trained Random Forest classifier (`model`) on the testing data (`X_test`).\n",
    "\n",
    "#### Explanation:\n",
    "\n",
    "   - **Purpose:** To predict the target labels (`y_pred`) for the testing data (`X_test`) using the trained Random Forest classifier (`model`).\n",
    "   - **Explanation:** \n",
    "     - `model`: This variable represents the trained Random Forest classifier.\n",
    "     - `.predict(X_test)`: The `predict` method in scikit-learn models is used to generate predictions based on the provided testing data (`X_test`). The method takes the testing data as input and returns the predicted target labels.\n",
    "     - `y_pred`: This variable stores the predicted labels for the testing data. Each value in `y_pred` corresponds to the predicted label for the corresponding sample in `X_test`."
   ]
  },
  {
   "cell_type": "markdown",
   "id": "c36a4641",
   "metadata": {},
   "source": [
    "### Step 04 : Check accuracy score"
   ]
  },
  {
   "cell_type": "code",
   "execution_count": 39,
   "id": "6dacb20c",
   "metadata": {},
   "outputs": [
    {
     "name": "stdout",
     "output_type": "stream",
     "text": [
      "Model accuracy score with 100 decision trees:0.6953\n"
     ]
    }
   ],
   "source": [
    "# To print and display the accuracy score of the Random Forest classifier model with 10 decision trees on the testing data.\n",
    "# Hint: use this code part . format(accuracy_score(y_test, y_pred)\n",
    "print('Model accuracy score with 100 decision trees:{0:0.4f}'.format(accuracy_score(y_test, y_pred)))\n"
   ]
  },
  {
   "cell_type": "markdown",
   "id": "6081e5dd",
   "metadata": {},
   "source": [
    "```python\n",
    "print('Model accuracy score with 10 decision-trees : {0:0.4f}'. format(accuracy_score(y_test, y_pred)))\n",
    "```"
   ]
  },
  {
   "cell_type": "markdown",
   "id": "c05b3940",
   "metadata": {},
   "source": [
    "#### Purpose:\n",
    "To print and display the accuracy score of the Random Forest classifier model with 10 decision trees on the testing data.\n",
    "\n",
    "#### Explanation:\n",
    "   - **Purpose:** To output and display the accuracy score of the Random Forest classifier model on the testing data.\n",
    "   - **Explanation:** \n",
    "     - `accuracy_score(y_test, y_pred)`: This function from scikit-learn's `metrics` module calculates the accuracy of predicted values (`y_pred`) compared to the actual target values (`y_test`).\n",
    "     - `{0:0.4f}`: This is a format specifier used within the string to format the accuracy score. It indicates that `{0}` should be replaced with the formatted accuracy score, with `0.4f` specifying that the score should be displayed as a floating-point number with 4 decimal places.\n",
    "     - `format(...)`: This method is used to insert the calculated accuracy score into the string format specified earlier.\n",
    "     - `print(...)`: Finally, the `print` function outputs the formatted string to the console or notebook output."
   ]
  },
  {
   "cell_type": "markdown",
   "id": "ee6a6d24",
   "metadata": {},
   "source": [
    "# 7. Features of Random Forest Model"
   ]
  },
  {
   "cell_type": "markdown",
   "id": "196e1283",
   "metadata": {},
   "source": [
    "- Until now, I have used all the features given in the model. Now, I will select only the important features, build the model using these features and see its effect on accuracy."
   ]
  },
  {
   "cell_type": "markdown",
   "id": "4426744b",
   "metadata": {},
   "source": [
    "### Step 01 : Create the Classifier, Fit the Model, View Feature Score"
   ]
  },
  {
   "cell_type": "code",
   "execution_count": 41,
   "id": "0c6fdb3f",
   "metadata": {},
   "outputs": [],
   "source": [
    "#To initialize a Random Forest classifier (clf) with specified parameters.\n",
    "#Hint: use step 01 of the model traning part\n",
    "clf = RandomForestClassifier(n_estimators = 100,random_state = 42)\n"
   ]
  },
  {
   "cell_type": "markdown",
   "id": "a134cb23",
   "metadata": {},
   "source": [
    "#### Purpose:\n",
    "To initialize a Random Forest classifier (`clf`) with specified parameters.\n",
    "\n",
    "#### Explanation:\n",
    "\n",
    "   - **Purpose:** To create an instance of the Random Forest classifier (`RandomForestClassifier`) with specific configuration parameters.\n",
    "   - **Explanation:** \n",
    "     - `RandomForestClassifier` is imported from the `sklearn.ensemble` module, which implements a Random Forest classifier.\n",
    "     - `n_estimators=100`: This parameter specifies the number of trees in the forest. In this case, the forest will contain 100 decision trees.\n",
    "     - `random_state=0`: This parameter sets the random seed for reproducibility. Providing a specific `random_state` ensures that the results are consistent across multiple runs of the code."
   ]
  },
  {
   "cell_type": "code",
   "execution_count": 42,
   "id": "b8cb3b1c",
   "metadata": {},
   "outputs": [
    {
     "data": {
      "text/html": [
       "<style>#sk-container-id-4 {color: black;}#sk-container-id-4 pre{padding: 0;}#sk-container-id-4 div.sk-toggleable {background-color: white;}#sk-container-id-4 label.sk-toggleable__label {cursor: pointer;display: block;width: 100%;margin-bottom: 0;padding: 0.3em;box-sizing: border-box;text-align: center;}#sk-container-id-4 label.sk-toggleable__label-arrow:before {content: \"▸\";float: left;margin-right: 0.25em;color: #696969;}#sk-container-id-4 label.sk-toggleable__label-arrow:hover:before {color: black;}#sk-container-id-4 div.sk-estimator:hover label.sk-toggleable__label-arrow:before {color: black;}#sk-container-id-4 div.sk-toggleable__content {max-height: 0;max-width: 0;overflow: hidden;text-align: left;background-color: #f0f8ff;}#sk-container-id-4 div.sk-toggleable__content pre {margin: 0.2em;color: black;border-radius: 0.25em;background-color: #f0f8ff;}#sk-container-id-4 input.sk-toggleable__control:checked~div.sk-toggleable__content {max-height: 200px;max-width: 100%;overflow: auto;}#sk-container-id-4 input.sk-toggleable__control:checked~label.sk-toggleable__label-arrow:before {content: \"▾\";}#sk-container-id-4 div.sk-estimator input.sk-toggleable__control:checked~label.sk-toggleable__label {background-color: #d4ebff;}#sk-container-id-4 div.sk-label input.sk-toggleable__control:checked~label.sk-toggleable__label {background-color: #d4ebff;}#sk-container-id-4 input.sk-hidden--visually {border: 0;clip: rect(1px 1px 1px 1px);clip: rect(1px, 1px, 1px, 1px);height: 1px;margin: -1px;overflow: hidden;padding: 0;position: absolute;width: 1px;}#sk-container-id-4 div.sk-estimator {font-family: monospace;background-color: #f0f8ff;border: 1px dotted black;border-radius: 0.25em;box-sizing: border-box;margin-bottom: 0.5em;}#sk-container-id-4 div.sk-estimator:hover {background-color: #d4ebff;}#sk-container-id-4 div.sk-parallel-item::after {content: \"\";width: 100%;border-bottom: 1px solid gray;flex-grow: 1;}#sk-container-id-4 div.sk-label:hover label.sk-toggleable__label {background-color: #d4ebff;}#sk-container-id-4 div.sk-serial::before {content: \"\";position: absolute;border-left: 1px solid gray;box-sizing: border-box;top: 0;bottom: 0;left: 50%;z-index: 0;}#sk-container-id-4 div.sk-serial {display: flex;flex-direction: column;align-items: center;background-color: white;padding-right: 0.2em;padding-left: 0.2em;position: relative;}#sk-container-id-4 div.sk-item {position: relative;z-index: 1;}#sk-container-id-4 div.sk-parallel {display: flex;align-items: stretch;justify-content: center;background-color: white;position: relative;}#sk-container-id-4 div.sk-item::before, #sk-container-id-4 div.sk-parallel-item::before {content: \"\";position: absolute;border-left: 1px solid gray;box-sizing: border-box;top: 0;bottom: 0;left: 50%;z-index: -1;}#sk-container-id-4 div.sk-parallel-item {display: flex;flex-direction: column;z-index: 1;position: relative;background-color: white;}#sk-container-id-4 div.sk-parallel-item:first-child::after {align-self: flex-end;width: 50%;}#sk-container-id-4 div.sk-parallel-item:last-child::after {align-self: flex-start;width: 50%;}#sk-container-id-4 div.sk-parallel-item:only-child::after {width: 0;}#sk-container-id-4 div.sk-dashed-wrapped {border: 1px dashed gray;margin: 0 0.4em 0.5em 0.4em;box-sizing: border-box;padding-bottom: 0.4em;background-color: white;}#sk-container-id-4 div.sk-label label {font-family: monospace;font-weight: bold;display: inline-block;line-height: 1.2em;}#sk-container-id-4 div.sk-label-container {text-align: center;}#sk-container-id-4 div.sk-container {/* jupyter's `normalize.less` sets `[hidden] { display: none; }` but bootstrap.min.css set `[hidden] { display: none !important; }` so we also need the `!important` here to be able to override the default hidden behavior on the sphinx rendered scikit-learn.org. See: https://github.com/scikit-learn/scikit-learn/issues/21755 */display: inline-block !important;position: relative;}#sk-container-id-4 div.sk-text-repr-fallback {display: none;}</style><div id=\"sk-container-id-4\" class=\"sk-top-container\"><div class=\"sk-text-repr-fallback\"><pre>RandomForestClassifier(random_state=42)</pre><b>In a Jupyter environment, please rerun this cell to show the HTML representation or trust the notebook. <br />On GitHub, the HTML representation is unable to render, please try loading this page with nbviewer.org.</b></div><div class=\"sk-container\" hidden><div class=\"sk-item\"><div class=\"sk-estimator sk-toggleable\"><input class=\"sk-toggleable__control sk-hidden--visually\" id=\"sk-estimator-id-4\" type=\"checkbox\" checked><label for=\"sk-estimator-id-4\" class=\"sk-toggleable__label sk-toggleable__label-arrow\">RandomForestClassifier</label><div class=\"sk-toggleable__content\"><pre>RandomForestClassifier(random_state=42)</pre></div></div></div></div></div>"
      ],
      "text/plain": [
       "RandomForestClassifier(random_state=42)"
      ]
     },
     "execution_count": 42,
     "metadata": {},
     "output_type": "execute_result"
    }
   ],
   "source": [
    "#To train the Random Forest classifier (clf) using the training data.\n",
    "#Hint: use step 01 of the model traning part\n",
    "clf.fit(X_train,y_train)\n"
   ]
  },
  {
   "cell_type": "markdown",
   "id": "035b3c74",
   "metadata": {},
   "source": [
    "#### Purpose:\n",
    "To train the Random Forest classifier (`clf`) using the training data.\n",
    "\n",
    "#### Explanation:\n",
    "\n",
    "   - **Purpose:** To train the Random Forest classifier (`clf`) using the training features (`X_train`) and the corresponding target labels (`y_train`).\n",
    "   - **Explanation:** \n",
    "     - `clf`: This variable represents the Random Forest classifier that was initialized earlier.\n",
    "     - `.fit(X_train, y_train)`: The `fit` method in scikit-learn models is used to train the model on the provided training data. Here, `X_train` is a DataFrame or array-like structure containing the features, and `y_train` is a Series or array containing the target labels (classifications).\n",
    "     - During this process, the Random Forest algorithm will build multiple decision trees based on the training data, where each tree is trained on a different subset of the data with different random samples and features.\n"
   ]
  },
  {
   "cell_type": "code",
   "execution_count": 44,
   "id": "2adf75f7",
   "metadata": {},
   "outputs": [
    {
     "data": {
      "text/plain": [
       "Safety              0.300125\n",
       "Persons             0.228268\n",
       "Maintenance Cost    0.152755\n",
       "Buying              0.152264\n",
       "Lug_Boot            0.095231\n",
       "Doors               0.071358\n",
       "dtype: float64"
      ]
     },
     "execution_count": 44,
     "metadata": {},
     "output_type": "execute_result"
    }
   ],
   "source": [
    "# To calculate and display feature importance scores from a trained Random Forest classifier (clf).\n",
    "# Use \"pd.Series\" part\n",
    "feature_scores = pd.Series(clf.feature_importances_, index= X_train.columns).sort_values(ascending=False)\n",
    "feature_scores"
   ]
  },
  {
   "cell_type": "markdown",
   "id": "43864377",
   "metadata": {},
   "source": [
    "#### Purpose:\n",
    "To calculate and display feature importance scores from a trained Random Forest classifier (`clf`).\n",
    "\n",
    "#### Explanation:\n",
    "1. **`feature_scores = pd.Series(clf.feature_importances_, index=X_train.columns).sort_values(ascending=False)`**:\n",
    "   - **Purpose:** This line of code serves to compute and organize feature importance scores derived from a trained Random Forest classifier (`clf`).\n",
    "   - **Explanation:** \n",
    "     - `clf`: Represents the instance of the Random Forest classifier that has been previously trained.\n",
    "     - `.feature_importances_`: This attribute of the Random Forest classifier yields an array of scores corresponding to the importance of each feature in predicting the target variable. Larger scores denote more influential features.\n",
    "     - `pd.Series(..., index=X_train.columns)`: Generates a Pandas Series (`feature_scores`) where the values are derived from `clf.feature_importances_`, and the index aligns with the column names from `X_train`.\n",
    "     - `.sort_values(ascending=False)`: Executes a descending sort on the feature importance scores within the Series. This arrangement ensures that the features with the highest importance scores appear first.\n"
   ]
  },
  {
   "cell_type": "markdown",
   "id": "6ff44bbb",
   "metadata": {},
   "source": [
    "2. **`feature_scores`**:\n",
    "   - **Purpose:** To display the calculated feature importance scores.\n",
    "   - **Explanation:** \n",
    "     - After sorting, `feature_scores` contains a Pandas Series where each index corresponds to a feature name and each value represents its importance score. This Series can be further used to analyze and understand which features are most influential for the model predictions."
   ]
  },
  {
   "cell_type": "markdown",
   "id": "68c338f1",
   "metadata": {},
   "source": [
    "### Step 02 : Visualize feature scores of the features"
   ]
  },
  {
   "cell_type": "code",
   "execution_count": 46,
   "id": "36bbcbe6",
   "metadata": {},
   "outputs": [
    {
     "data": {
      "image/png": "[encoded data removed]",
      "text/plain": [
       "<Figure size 640x480 with 1 Axes>"
      ]
     },
     "metadata": {},
     "output_type": "display_data"
    }
   ],
   "source": [
    "# Hint: Use \"seaborn\" package to create and display a bar plot visualizing feature importance scores using Seaborn.\n",
    "sns.barplot(x=feature_scores, y=feature_scores.index)\n",
    "plt.xlabel('Feature Importance Score')\n",
    "plt.ylabel('Features')\n",
    "plt.title(\"Visualizing Important Features\")\n",
    "plt.show()\n"
   ]
  },
  {
   "cell_type": "markdown",
   "id": "428a4032",
   "metadata": {},
   "source": [
    "### Purpose:\n",
    "To create and display a bar plot visualizing feature importance scores using Seaborn and Matplotlib.\n",
    "\n",
    "### Explanation:\n",
    "\n",
    "1. **`sns.barplot(x=feature_scores, y=feature_scores.index)`**:\n",
    "   - **Purpose:** Creates a horizontal bar plot to visualize feature importance scores.\n",
    "   - **Explanation:** \n",
    "     - `sns.barplot(...)`: A function from the Seaborn library that generates a bar plot.\n",
    "     - `x=feature_scores`: Specifies that the values on the x-axis are the feature importance scores.\n",
    "     - `y=feature_scores.index`: Specifies that the labels on the y-axis are the feature names.<br><br>\n",
    "\n",
    "2. **`plt.xlabel('Feature Importance Score')`**:\n",
    "   - **Purpose:** Sets the label for the x-axis.\n",
    "   - **Explanation:** \n",
    "     - `plt.xlabel(...)`: A function from the Matplotlib library used to label the x-axis of the plot.\n",
    "     - `'Feature Importance Score'`: The text that will be displayed as the x-axis label.<br><br>\n",
    "\n",
    "3. **`plt.ylabel('Features')`**:\n",
    "   - **Purpose:** Sets the label for the y-axis.\n",
    "   - **Explanation:** \n",
    "     - `plt.ylabel(...)`: A function from the Matplotlib library used to label the y-axis of the plot.\n",
    "     - `'Features'`: The text that will be displayed as the y-axis label.<br><br>\n",
    "\n",
    "4. **`plt.title(\"Visualizing Important Features\")`**:\n",
    "   - **Purpose:** Adds a title to the plot.\n",
    "   - **Explanation:** \n",
    "     - `plt.title(...)`: A function from the Matplotlib library used to set the title of the plot.\n",
    "     - `\"Visualizing Important Features\"`: The text that will be displayed as the plot title.<br><br>\n",
    "\n",
    "5. **`plt.show()`**:\n",
    "   - **Purpose:** Displays the plot.\n",
    "   - **Explanation:** \n",
    "     - `plt.show()`: A function from the Matplotlib library that renders the plot to the screen or notebook output.\n"
   ]
  },
  {
   "cell_type": "markdown",
   "id": "d46d1092",
   "metadata": {},
   "source": [
    "**Important Notice:** \n",
    "- During our analysis of the classification model, we observed significant improvements in accuracy upon removing the least important feature, 'doors', resulting in an accuracy increase from 0.9247 to 0.9264. However, removing the second least important feature, 'lug_boot', led to a notable drop in accuracy to 0.8546, indicating its crucial role in the model. Overall, our classification model demonstrates high accuracy, showcasing its effectiveness in predicting class labels. Yet, accuracy alone does not provide insights into prediction distributions or error types. For a comprehensive evaluation, the confusion matrix serves as a vital tool, offering detailed breakdowns of predictions and identifying specific types of errors (e.g., false positives and false negatives). This deeper analysis is essential for understanding the robustness and limitations of our classification model in real-world scenarios.\n",
    "\n"
   ]
  },
  {
   "cell_type": "markdown",
   "id": "694dfe5b",
   "metadata": {},
   "source": [
    "# 8. Confusion Matrix"
   ]
  },
  {
   "cell_type": "markdown",
   "id": "7432650c",
   "metadata": {},
   "source": [
    "A confusion matrix is an essential tool for evaluating the performance of a classification algorithm. It provides a detailed summary of how well the model performs in terms of predicting both correct and incorrect classifications across different categories. This summary is structured in a tabular format.\n",
    "\n",
    "In evaluating a classification model, four key outcomes are considered:\n",
    "\n",
    "#### True Positives (TP):\n",
    "- These occur when the model correctly predicts that an observation belongs to a certain class, and it actually does.\n",
    "  \n",
    "#### True Negatives (TN):\n",
    "- These occur when the model correctly predicts that an observation does not belong to a certain class, and it indeed does not.\n",
    "  \n",
    "#### False Positives (FP):\n",
    "- These occur when the model predicts that an observation belongs to a certain class, but it actually does not (Type I error).\n",
    "  \n",
    "#### False Negatives (FN):\n",
    "- These occur when the model predicts that an observation does not belong to a certain class, but it actually does (Type II error).\n",
    "\n",
    "These outcomes are succinctly summarized within the confusion matrix, which provides a comprehensive view of the model's performance and the types of errors encountered.\n"
   ]
  },
  {
   "cell_type": "code",
   "execution_count": 197,
   "id": "892948cc",
   "metadata": {},
   "outputs": [],
   "source": [
    "conf_matrix = confusion_matrix(y_test, y_pred)"
   ]
  },
  {
   "cell_type": "markdown",
   "id": "15537dec",
   "metadata": {},
   "source": [
    "   - **Purpose:** This line calculates the confusion matrix (`conf_matrix`) using the predicted labels (`y_pred`) and the actual labels (`y_test`) from the testing dataset.\n",
    "   - **Explanation:** \n",
    "     - `confusion_matrix`: This function from the `sklearn.metrics` module computes the confusion matrix, which is a table that summarizes the performance of a classification model.\n",
    "     - `y_test`: Represents the actual target labels (ground truth) from the testing dataset.\n",
    "     - `y_pred`: Represents the predicted target labels obtained from the model's predictions on the testing dataset.\n",
    "     - The confusion matrix `conf_matrix` is a 2x2 matrix (for binary classification) or an NxN matrix (for multiclass classification) that shows the counts of true positive, true negative, false positive, and false negative predictions made by the model.\n",
    "\n"
   ]
  },
  {
   "cell_type": "code",
   "execution_count": 198,
   "id": "b89e070d",
   "metadata": {},
   "outputs": [
    {
     "name": "stdout",
     "output_type": "stream",
     "text": [
      "Confusion matrix\n",
      "\n",
      " [[113  10   4   2]\n",
      " [  2  17   0   1]\n",
      " [  8   0 389   0]\n",
      " [  3   3   0  19]]\n"
     ]
    }
   ],
   "source": [
    "print('Confusion matrix\\n\\n', conf_matrix)"
   ]
  },
  {
   "cell_type": "markdown",
   "id": "5f953018",
   "metadata": {},
   "source": [
    "   - **Purpose:** This line prints and displays the confusion matrix (`conf_matrix`) to the console or notebook output.\n",
    "   - **Explanation:** \n",
    "     - `print(...)`: The `print` function is used to output information to the console or notebook output.\n",
    "     - `'Confusion matrix\\n\\n'`: This string serves as a label or title for the confusion matrix output, indicating what the following data represents.\n",
    "     - `conf_matrix`: The confusion matrix `conf_matrix` that was computed in the previous line is printed immediately after the label.\n"
   ]
  },
  {
   "cell_type": "code",
   "execution_count": 199,
   "id": "17dd9d5d",
   "metadata": {},
   "outputs": [
    {
     "data": {
      "image/png": "[encoded data removed]",
      "text/plain": [
       "<Figure size 1000x700 with 2 Axes>"
      ]
     },
     "metadata": {},
     "output_type": "display_data"
    }
   ],
   "source": [
    "# Visualize confusion matrix using Seaborn\n",
    "plt.figure(figsize=(10, 7))\n",
    "sns.heatmap(conf_matrix, annot=True, fmt='d', cmap='Blues', xticklabels=['Unacc', 'Acc', 'Good', 'Vgood'], yticklabels=['Unacc', 'Acc', 'Good', 'Vgood'])\n",
    "plt.xlabel('Predicted')\n",
    "plt.ylabel('Actual')\n",
    "plt.title('Confusion Matrix')\n",
    "plt.show()"
   ]
  },
  {
   "cell_type": "markdown",
   "id": "5fffeb0e",
   "metadata": {},
   "source": [
    "# 9. Classification Report"
   ]
  },
  {
   "cell_type": "markdown",
   "id": "667defbe",
   "metadata": {},
   "source": [
    "The classification report provides an alternative method to assess the performance of a classification model. It presents metrics such as precision, recall, F1-score, and support scores, which are explained later in detail.\n",
    "\n",
    "To print a classification report, use the following method:"
   ]
  },
  {
   "cell_type": "code",
   "execution_count": 200,
   "id": "92226906",
   "metadata": {},
   "outputs": [
    {
     "name": "stdout",
     "output_type": "stream",
     "text": [
      "              precision    recall  f1-score   support\n",
      "\n",
      "         acc       0.90      0.88      0.89       129\n",
      "        good       0.57      0.85      0.68        20\n",
      "       unacc       0.99      0.98      0.98       397\n",
      "       vgood       0.86      0.76      0.81        25\n",
      "\n",
      "    accuracy                           0.94       571\n",
      "   macro avg       0.83      0.87      0.84       571\n",
      "weighted avg       0.95      0.94      0.94       571\n",
      "\n"
     ]
    }
   ],
   "source": [
    "print(classification_report(y_test, y_pred))"
   ]
  },
  {
   "cell_type": "markdown",
   "id": "1aa17f7d",
   "metadata": {},
   "source": [
    "**`classification_report`**: \n",
    "   - This function computes and prints a classification report containing metrics such as precision, recall, F1-score, and support for each class in your classification task.\n",
    "\n",
    "**`y_test`**:\n",
    "   - This parameter represents the true labels or target values from your test dataset.\n",
    "   - It should be a 1-dimensional array-like structure (e.g., a list or a Pandas Series) containing the actual values of the target variable.\n",
    "\n",
    "**`y_pred`**:\n",
    "   - This parameter represents the predicted labels or target values generated by your classifier on the test dataset.\n",
    "   - It should have the same structure as `y_test` and contains the predicted values corresponding to each instance in the test dataset.\n",
    "\n",
    "\n"
   ]
  },
  {
   "cell_type": "code",
   "execution_count": null,
   "id": "7f1c5436",
   "metadata": {},
   "outputs": [],
   "source": []
  },
  {
   "cell_type": "code",
   "execution_count": null,
   "id": "0cfd4957",
   "metadata": {},
   "outputs": [],
   "source": []
  },
  {
   "cell_type": "code",
   "execution_count": null,
   "id": "882fb050",
   "metadata": {},
   "outputs": [],
   "source": []
  },
  {
   "cell_type": "code",
   "execution_count": null,
   "id": "c18d0cd6",
   "metadata": {},
   "outputs": [],
   "source": []
  },
  {
   "cell_type": "code",
   "execution_count": null,
   "id": "c478ab7b",
   "metadata": {},
   "outputs": [],
   "source": []
  }
 ],
 "metadata": {
  "kernelspec": {
   "display_name": "Python 3 (ipykernel)",
   "language": "python",
   "name": "python3"
  },
  "language_info": {
   "codemirror_mode": {
    "name": "ipython",
    "version": 3
   },
   "file_extension": ".py",
   "mimetype": "text/x-python",
   "name": "python",
   "nbconvert_exporter": "python",
   "pygments_lexer": "ipython3",
   "version": "3.11.5"
  }
 },
 "nbformat": 4,
 "nbformat_minor": 5
}
